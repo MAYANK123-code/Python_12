{
  "nbformat": 4,
  "nbformat_minor": 0,
  "metadata": {
    "colab": {
      "name": "DecisionTrees",
      "provenance": [],
      "include_colab_link": true
    },
    "kernelspec": {
      "name": "python3",
      "display_name": "Python 3"
    }
  },
  "cells": [
    {
      "cell_type": "markdown",
      "metadata": {
        "id": "view-in-github",
        "colab_type": "text"
      },
      "source": [
        "<a href=\"https://colab.research.google.com/github/arjunmann73/Machine-Learning/blob/master/Classification/Decision%20Tree/DecisionTrees.ipynb\" target=\"_parent\"><img src=\"https://colab.research.google.com/assets/colab-badge.svg\" alt=\"Open In Colab\"/></a>"
      ]
    },
    {
      "cell_type": "markdown",
      "metadata": {
        "id": "qrBqRtPtBKSd",
        "colab_type": "text"
      },
      "source": [
        "<h1><center>Decision Trees</center></h1>"
      ]
    },
    {
      "cell_type": "markdown",
      "metadata": {
        "id": "d_AGyuEBBPSe",
        "colab_type": "text"
      },
      "source": [
        "## Importing the required libraries"
      ]
    },
    {
      "cell_type": "code",
      "metadata": {
        "id": "qCm-mz5kBKqw",
        "colab_type": "code",
        "colab": {}
      },
      "source": [
        "import numpy as np \n",
        "import pandas as pd\n",
        "from sklearn.tree import DecisionTreeClassifier"
      ],
      "execution_count": 0,
      "outputs": []
    },
    {
      "cell_type": "markdown",
      "metadata": {
        "id": "f20EcchGBY6i",
        "colab_type": "text"
      },
      "source": [
        "## About the dataset\n",
        "\n",
        "We have collected data about a set of patients, all of whom suffered from the same illness. During their course of treatment, each patient responded to one of 5 medications, Drug A, Drug B, Drug c, Drug x and y."
      ]
    },
    {
      "cell_type": "code",
      "metadata": {
        "id": "nlmvk3LOBSfO",
        "colab_type": "code",
        "colab": {
          "base_uri": "https://localhost:8080/",
          "height": 210
        },
        "outputId": "654a0194-b3ac-449d-a04a-696a12a639bd"
      },
      "source": [
        "!wget -O drug200.csv https://s3-api.us-geo.objectstorage.softlayer.net/cf-courses-data/CognitiveClass/ML0101ENv3/labs/drug200.csv"
      ],
      "execution_count": 2,
      "outputs": [
        {
          "output_type": "stream",
          "text": [
            "--2019-09-30 11:54:49--  https://s3-api.us-geo.objectstorage.softlayer.net/cf-courses-data/CognitiveClass/ML0101ENv3/labs/drug200.csv\n",
            "Resolving s3-api.us-geo.objectstorage.softlayer.net (s3-api.us-geo.objectstorage.softlayer.net)... 67.228.254.193\n",
            "Connecting to s3-api.us-geo.objectstorage.softlayer.net (s3-api.us-geo.objectstorage.softlayer.net)|67.228.254.193|:443... connected.\n",
            "HTTP request sent, awaiting response... 200 OK\n",
            "Length: 6027 (5.9K) [text/csv]\n",
            "Saving to: ‘drug200.csv’\n",
            "\n",
            "\rdrug200.csv           0%[                    ]       0  --.-KB/s               \rdrug200.csv         100%[===================>]   5.89K  --.-KB/s    in 0s      \n",
            "\n",
            "2019-09-30 11:54:49 (1.25 GB/s) - ‘drug200.csv’ saved [6027/6027]\n",
            "\n"
          ],
          "name": "stdout"
        }
      ]
    },
    {
      "cell_type": "code",
      "metadata": {
        "id": "LhOP7zrrBekn",
        "colab_type": "code",
        "colab": {
          "base_uri": "https://localhost:8080/",
          "height": 195
        },
        "outputId": "5463b3ee-baf3-4b96-f61a-5e213f20dd05"
      },
      "source": [
        "my_data = pd.read_csv(\"drug200.csv\", delimiter=\",\")\n",
        "my_data[0:5]"
      ],
      "execution_count": 3,
      "outputs": [
        {
          "output_type": "execute_result",
          "data": {
            "text/html": [
              "<div>\n",
              "<style scoped>\n",
              "    .dataframe tbody tr th:only-of-type {\n",
              "        vertical-align: middle;\n",
              "    }\n",
              "\n",
              "    .dataframe tbody tr th {\n",
              "        vertical-align: top;\n",
              "    }\n",
              "\n",
              "    .dataframe thead th {\n",
              "        text-align: right;\n",
              "    }\n",
              "</style>\n",
              "<table border=\"1\" class=\"dataframe\">\n",
              "  <thead>\n",
              "    <tr style=\"text-align: right;\">\n",
              "      <th></th>\n",
              "      <th>Age</th>\n",
              "      <th>Sex</th>\n",
              "      <th>BP</th>\n",
              "      <th>Cholesterol</th>\n",
              "      <th>Na_to_K</th>\n",
              "      <th>Drug</th>\n",
              "    </tr>\n",
              "  </thead>\n",
              "  <tbody>\n",
              "    <tr>\n",
              "      <th>0</th>\n",
              "      <td>23</td>\n",
              "      <td>F</td>\n",
              "      <td>HIGH</td>\n",
              "      <td>HIGH</td>\n",
              "      <td>25.355</td>\n",
              "      <td>drugY</td>\n",
              "    </tr>\n",
              "    <tr>\n",
              "      <th>1</th>\n",
              "      <td>47</td>\n",
              "      <td>M</td>\n",
              "      <td>LOW</td>\n",
              "      <td>HIGH</td>\n",
              "      <td>13.093</td>\n",
              "      <td>drugC</td>\n",
              "    </tr>\n",
              "    <tr>\n",
              "      <th>2</th>\n",
              "      <td>47</td>\n",
              "      <td>M</td>\n",
              "      <td>LOW</td>\n",
              "      <td>HIGH</td>\n",
              "      <td>10.114</td>\n",
              "      <td>drugC</td>\n",
              "    </tr>\n",
              "    <tr>\n",
              "      <th>3</th>\n",
              "      <td>28</td>\n",
              "      <td>F</td>\n",
              "      <td>NORMAL</td>\n",
              "      <td>HIGH</td>\n",
              "      <td>7.798</td>\n",
              "      <td>drugX</td>\n",
              "    </tr>\n",
              "    <tr>\n",
              "      <th>4</th>\n",
              "      <td>61</td>\n",
              "      <td>F</td>\n",
              "      <td>LOW</td>\n",
              "      <td>HIGH</td>\n",
              "      <td>18.043</td>\n",
              "      <td>drugY</td>\n",
              "    </tr>\n",
              "  </tbody>\n",
              "</table>\n",
              "</div>"
            ],
            "text/plain": [
              "   Age Sex      BP Cholesterol  Na_to_K   Drug\n",
              "0   23   F    HIGH        HIGH   25.355  drugY\n",
              "1   47   M     LOW        HIGH   13.093  drugC\n",
              "2   47   M     LOW        HIGH   10.114  drugC\n",
              "3   28   F  NORMAL        HIGH    7.798  drugX\n",
              "4   61   F     LOW        HIGH   18.043  drugY"
            ]
          },
          "metadata": {
            "tags": []
          },
          "execution_count": 3
        }
      ]
    },
    {
      "cell_type": "markdown",
      "metadata": {
        "id": "8wtilElgBuRH",
        "colab_type": "text"
      },
      "source": [
        "## Pre processing\n",
        "\n",
        "1.   Converting the data into an array.\n",
        "2.   Changing categorical variables to integer values.\n",
        "3.   Converting the output variable to an array."
      ]
    },
    {
      "cell_type": "code",
      "metadata": {
        "id": "zhr3oBiYBhN7",
        "colab_type": "code",
        "colab": {
          "base_uri": "https://localhost:8080/",
          "height": 105
        },
        "outputId": "bd643051-e96b-454d-980d-265ab631d951"
      },
      "source": [
        "X = my_data[['Age', 'Sex', 'BP', 'Cholesterol', 'Na_to_K']].values\n",
        "X[0:5]"
      ],
      "execution_count": 4,
      "outputs": [
        {
          "output_type": "execute_result",
          "data": {
            "text/plain": [
              "array([[23, 'F', 'HIGH', 'HIGH', 25.355],\n",
              "       [47, 'M', 'LOW', 'HIGH', 13.093],\n",
              "       [47, 'M', 'LOW', 'HIGH', 10.113999999999999],\n",
              "       [28, 'F', 'NORMAL', 'HIGH', 7.797999999999999],\n",
              "       [61, 'F', 'LOW', 'HIGH', 18.043]], dtype=object)"
            ]
          },
          "metadata": {
            "tags": []
          },
          "execution_count": 4
        }
      ]
    },
    {
      "cell_type": "code",
      "metadata": {
        "id": "qW08URHeCIAp",
        "colab_type": "code",
        "colab": {
          "base_uri": "https://localhost:8080/",
          "height": 105
        },
        "outputId": "33cc580e-3566-4fe5-a20f-51e06e993706"
      },
      "source": [
        "from sklearn import preprocessing\n",
        "le_sex = preprocessing.LabelEncoder()\n",
        "le_sex.fit(['F','M'])\n",
        "X[:,1] = le_sex.transform(X[:,1]) \n",
        "\n",
        "\n",
        "le_BP = preprocessing.LabelEncoder()\n",
        "le_BP.fit([ 'LOW', 'NORMAL', 'HIGH'])\n",
        "X[:,2] = le_BP.transform(X[:,2])\n",
        "\n",
        "\n",
        "le_Chol = preprocessing.LabelEncoder()\n",
        "le_Chol.fit([ 'NORMAL', 'HIGH'])\n",
        "X[:,3] = le_Chol.transform(X[:,3]) \n",
        "\n",
        "X[0:5]\n"
      ],
      "execution_count": 5,
      "outputs": [
        {
          "output_type": "execute_result",
          "data": {
            "text/plain": [
              "array([[23, 0, 0, 0, 25.355],\n",
              "       [47, 1, 1, 0, 13.093],\n",
              "       [47, 1, 1, 0, 10.113999999999999],\n",
              "       [28, 0, 2, 0, 7.797999999999999],\n",
              "       [61, 0, 1, 0, 18.043]], dtype=object)"
            ]
          },
          "metadata": {
            "tags": []
          },
          "execution_count": 5
        }
      ]
    },
    {
      "cell_type": "code",
      "metadata": {
        "id": "uKJKr9ApCK3X",
        "colab_type": "code",
        "colab": {
          "base_uri": "https://localhost:8080/",
          "height": 122
        },
        "outputId": "4fdd0c7f-220f-49a5-8a63-fd097019db54"
      },
      "source": [
        "y = my_data[\"Drug\"]\n",
        "y[0:5]"
      ],
      "execution_count": 6,
      "outputs": [
        {
          "output_type": "execute_result",
          "data": {
            "text/plain": [
              "0    drugY\n",
              "1    drugC\n",
              "2    drugC\n",
              "3    drugX\n",
              "4    drugY\n",
              "Name: Drug, dtype: object"
            ]
          },
          "metadata": {
            "tags": []
          },
          "execution_count": 6
        }
      ]
    },
    {
      "cell_type": "markdown",
      "metadata": {
        "id": "_yUW7Y4bCg5H",
        "colab_type": "text"
      },
      "source": [
        "## Setting up the decision tree"
      ]
    },
    {
      "cell_type": "code",
      "metadata": {
        "id": "YC48rc2JCbra",
        "colab_type": "code",
        "colab": {}
      },
      "source": [
        "from sklearn.model_selection import train_test_split"
      ],
      "execution_count": 0,
      "outputs": []
    },
    {
      "cell_type": "code",
      "metadata": {
        "id": "n8LSXpn9Ck6l",
        "colab_type": "code",
        "colab": {}
      },
      "source": [
        "X_trainset, X_testset, y_trainset, y_testset = train_test_split(X, y, test_size=0.3, random_state=3)"
      ],
      "execution_count": 0,
      "outputs": []
    },
    {
      "cell_type": "markdown",
      "metadata": {
        "id": "4fRF9zFBCqi1",
        "colab_type": "text"
      },
      "source": [
        "## Training the Machine Learning Model"
      ]
    },
    {
      "cell_type": "code",
      "metadata": {
        "id": "xl6bc3pACmia",
        "colab_type": "code",
        "colab": {
          "base_uri": "https://localhost:8080/",
          "height": 122
        },
        "outputId": "ef444191-0764-48a5-9265-2b59b828e517"
      },
      "source": [
        "drugTree = DecisionTreeClassifier(criterion=\"entropy\", max_depth = 4)\n",
        "drugTree # it shows the default parameters"
      ],
      "execution_count": 9,
      "outputs": [
        {
          "output_type": "execute_result",
          "data": {
            "text/plain": [
              "DecisionTreeClassifier(class_weight=None, criterion='entropy', max_depth=4,\n",
              "                       max_features=None, max_leaf_nodes=None,\n",
              "                       min_impurity_decrease=0.0, min_impurity_split=None,\n",
              "                       min_samples_leaf=1, min_samples_split=2,\n",
              "                       min_weight_fraction_leaf=0.0, presort=False,\n",
              "                       random_state=None, splitter='best')"
            ]
          },
          "metadata": {
            "tags": []
          },
          "execution_count": 9
        }
      ]
    },
    {
      "cell_type": "code",
      "metadata": {
        "id": "LxHbu7fOCvfu",
        "colab_type": "code",
        "colab": {
          "base_uri": "https://localhost:8080/",
          "height": 122
        },
        "outputId": "c94eb74e-0c19-47d8-c7ad-49bf13f9cda6"
      },
      "source": [
        "drugTree.fit(X_trainset,y_trainset)"
      ],
      "execution_count": 10,
      "outputs": [
        {
          "output_type": "execute_result",
          "data": {
            "text/plain": [
              "DecisionTreeClassifier(class_weight=None, criterion='entropy', max_depth=4,\n",
              "                       max_features=None, max_leaf_nodes=None,\n",
              "                       min_impurity_decrease=0.0, min_impurity_split=None,\n",
              "                       min_samples_leaf=1, min_samples_split=2,\n",
              "                       min_weight_fraction_leaf=0.0, presort=False,\n",
              "                       random_state=None, splitter='best')"
            ]
          },
          "metadata": {
            "tags": []
          },
          "execution_count": 10
        }
      ]
    },
    {
      "cell_type": "markdown",
      "metadata": {
        "id": "V7YKivRNC9Zk",
        "colab_type": "text"
      },
      "source": [
        "## Prediction"
      ]
    },
    {
      "cell_type": "code",
      "metadata": {
        "id": "alef99wcC5BA",
        "colab_type": "code",
        "colab": {}
      },
      "source": [
        "predTree = drugTree.predict(X_testset)"
      ],
      "execution_count": 0,
      "outputs": []
    },
    {
      "cell_type": "code",
      "metadata": {
        "id": "C7fQwYy-C7T-",
        "colab_type": "code",
        "colab": {
          "base_uri": "https://localhost:8080/",
          "height": 140
        },
        "outputId": "3cdfd7ed-1775-4bf0-a131-50f74a384975"
      },
      "source": [
        "print (predTree [0:5])\n",
        "print (y_testset [0:5])\n"
      ],
      "execution_count": 12,
      "outputs": [
        {
          "output_type": "stream",
          "text": [
            "['drugY' 'drugX' 'drugX' 'drugX' 'drugX']\n",
            "40     drugY\n",
            "51     drugX\n",
            "139    drugX\n",
            "197    drugX\n",
            "170    drugX\n",
            "Name: Drug, dtype: object\n"
          ],
          "name": "stdout"
        }
      ]
    },
    {
      "cell_type": "markdown",
      "metadata": {
        "id": "6j1NoMiGDGXp",
        "colab_type": "text"
      },
      "source": [
        "## Evaluation of the decision tree"
      ]
    },
    {
      "cell_type": "code",
      "metadata": {
        "id": "MEZ0ApgqDA14",
        "colab_type": "code",
        "colab": {
          "base_uri": "https://localhost:8080/",
          "height": 34
        },
        "outputId": "fbb7187b-8d60-48ad-bcef-f99023235196"
      },
      "source": [
        "from sklearn import metrics\n",
        "import matplotlib.pyplot as plt\n",
        "print(\"DecisionTrees's Accuracy: \", metrics.accuracy_score(y_testset, predTree))"
      ],
      "execution_count": 13,
      "outputs": [
        {
          "output_type": "stream",
          "text": [
            "DecisionTrees's Accuracy:  0.9833333333333333\n"
          ],
          "name": "stdout"
        }
      ]
    }
  ]
}